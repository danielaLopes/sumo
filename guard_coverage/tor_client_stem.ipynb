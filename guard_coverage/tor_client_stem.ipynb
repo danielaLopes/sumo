{
 "cells": [
  {
   "cell_type": "markdown",
   "metadata": {},
   "source": [
    "Methodology was based on Section 6.2 of paper \"Quantifying measurement quality and load distribution in Tor\": https://dl.acm.org/doi/pdf/10.1145/3427228.3427238\n",
    "\n",
    "* I can always create a new container image with a Tor process representing each client and it will always choose a new guard node, so I don't have to change the default Tor definitions\n",
    "* Log all relays along with their data, specifically geographical location, used in each client circuit.\n",
    "* In the paper, the authors logged over 8.6 million circuits, representing about 275,000 circuits per day\n",
    "* Drop the circuit immediately after creation to ensure not overloading the guard relays\n",
    "* Wait 16 minutes between each circuit"
   ]
  },
  {
   "cell_type": "code",
   "execution_count": 1,
   "metadata": {},
   "outputs": [
    {
     "name": "stdout",
     "output_type": "stream",
     "text": [
      "Requirement already satisfied: stem in /Users/danielalopes/opt/anaconda3/envs/ml_experiments/lib/python3.9/site-packages (1.8.2)\n",
      "Requirement already satisfied: retrying in /Users/danielalopes/opt/anaconda3/envs/ml_experiments/lib/python3.9/site-packages (1.3.4)\n",
      "Requirement already satisfied: six>=1.7.0 in /Users/danielalopes/.local/lib/python3.9/site-packages (from retrying) (1.16.0)\n",
      "Requirement already satisfied: joblib in /Users/danielalopes/opt/anaconda3/envs/ml_experiments/lib/python3.9/site-packages (1.3.2)\n"
     ]
    }
   ],
   "source": [
    "!pip install stem\n",
    "!pip install retrying\n",
    "!pip install joblib"
   ]
  },
  {
   "cell_type": "code",
   "execution_count": 2,
   "metadata": {},
   "outputs": [
    {
     "name": "stdout",
     "output_type": "stream",
     "text": [
      "Intel MKL WARNING: Support of Intel(R) Streaming SIMD Extensions 4.2 (Intel(R) SSE4.2) enabled only processors has been deprecated. Intel oneAPI Math Kernel Library 2025.0 will require Intel(R) Advanced Vector Extensions (Intel(R) AVX) instructions.\n",
      "Intel MKL WARNING: Support of Intel(R) Streaming SIMD Extensions 4.2 (Intel(R) SSE4.2) enabled only processors has been deprecated. Intel oneAPI Math Kernel Library 2025.0 will require Intel(R) Advanced Vector Extensions (Intel(R) AVX) instructions.\n"
     ]
    }
   ],
   "source": [
    "import subprocess\n",
    "import requests\n",
    "import shlex\n",
    "import traceback\n",
    "import time\n",
    "from stem import CircStatus\n",
    "from stem.control import Controller\n",
    "import stem.process\n",
    "import stem.descriptor.remote\n",
    "from retrying import retry\n",
    "import joblib\n",
    "from tqdm import tqdm\n"
   ]
  },
  {
   "cell_type": "code",
   "execution_count": 3,
   "metadata": {},
   "outputs": [],
   "source": [
    "BASE_DIR = './results/data/'\n",
    "SOCKS_PORT = 9050\n",
    "CONTROL_PORT = 9051\n",
    "\n",
    "GUARD_NODES_FILE = f\"{BASE_DIR}client_guard_nodes.joblib\"\n",
    "MIDDLE_NODES_FILE = f\"{BASE_DIR}client_middle_nodes.joblib\"\n",
    "EXIT_NODES_FILE = f\"{BASE_DIR}client_exit_nodes.joblib\""
   ]
  },
  {
   "cell_type": "code",
   "execution_count": 4,
   "metadata": {},
   "outputs": [],
   "source": [
    "def stop_tor(tor_process):\n",
    "    tor_process.terminate()\n",
    "    tor_process.wait()  # Wait for the process to finish"
   ]
  },
  {
   "cell_type": "code",
   "execution_count": 5,
   "metadata": {},
   "outputs": [],
   "source": [
    "def start_tor():\n",
    "    command = \"/opt/homebrew/opt/tor/bin/tor -f data/torrc\"\n",
    "    tor_process = subprocess.Popen(shlex.split(command))\n",
    "    return tor_process"
   ]
  },
  {
   "cell_type": "markdown",
   "metadata": {},
   "source": [
    "### More stem references\n",
    "* https://tor.stackexchange.com/questions/7049/stem-how-to-get-current-in-use-circuit\n",
    "* https://github.com/webfp/tor-browser-selenium/blob/main/examples/stem_adv.py\n",
    "* https://stem.torproject.org/tutorials/to_russia_with_love.html#custom-path-selection\n",
    "* https://stem.torproject.org/api.html"
   ]
  },
  {
   "cell_type": "code",
   "execution_count": 6,
   "metadata": {},
   "outputs": [],
   "source": [
    "class RelayGeolocationException(Exception):\n",
    "    def __init__(self, message):\n",
    "        super().__init__(message)"
   ]
  },
  {
   "cell_type": "code",
   "execution_count": 7,
   "metadata": {},
   "outputs": [],
   "source": [
    "def get_geolocation(ip_address):\n",
    "    url = f\"http://ip-api.com/json/{ip_address}\" # Limited by 45 requests per minute\n",
    "    response = requests.get(url)\n",
    "    if response.status_code != 200:\n",
    "        raise RelayGeolocationException(f\"Could not fetch geolocation for {ip_address} due to {response.status_code} error\")\n",
    "    data = response.json()\n",
    "\n",
    "    print(f\"IP Address: {ip_address}\")\n",
    "    print(f\"Location: {data['city']}, {data['region']}, {data['country']}, {data['countryCode']}\")\n",
    "    print(f\"ISP: {data['isp']}, AS: {data['as']}, Org: {data['org']}\")\n",
    "    print(\"=\" * 30)\n",
    "\n",
    "    return ip_address, data['city'], data['region'], data['country'], data['countryCode'], data['isp'], data['as'], data['org']"
   ]
  },
  {
   "cell_type": "code",
   "execution_count": null,
   "metadata": {},
   "outputs": [],
   "source": []
  },
  {
   "cell_type": "code",
   "execution_count": 8,
   "metadata": {},
   "outputs": [],
   "source": [
    "def get_circuit_data(controller, circuit):\n",
    "    guard_ip, middle_ip, exit_ip = None, None, None\n",
    "    print(\"Circuit characteristics:\", circuit)\n",
    "    if circuit.status == CircStatus.BUILT and len(circuit.path) >=3:\n",
    "        guard_fingerprint = circuit.path[0][0]  # The first hop is the guard relay\n",
    "        print(\"GUARD\", circuit.path[0])\n",
    "        middle_fingerprint = circuit.path[1][0]\n",
    "        print(\"MIDDLE\", circuit.path[1])\n",
    "        exit_fingerprint = circuit.path[2][0]\n",
    "        print(\"LAST\", circuit.path[2])\n",
    "\n",
    "        # Get relay details for each hop\n",
    "        guard_relay = controller.get_network_status(guard_fingerprint)\n",
    "        middle_relay = controller.get_network_status(middle_fingerprint)\n",
    "        exit_relay = controller.get_network_status(exit_fingerprint)\n",
    "\n",
    "        print(\"Guard relay flags\", guard_relay.flags)\n",
    "        print(\"Middle relay flags\", middle_relay.flags)\n",
    "        print(\"Exit relay flags\", exit_relay.flags)\n",
    "\n",
    "        guard_ip =  guard_relay.address\n",
    "        middle_ip = middle_relay.address\n",
    "        exit_ip = exit_relay.address\n",
    "\n",
    "    else:\n",
    "        print(\"Circuit skipped\")\n",
    "\n",
    "    return guard_ip, middle_ip, exit_ip"
   ]
  },
  {
   "cell_type": "markdown",
   "metadata": {},
   "source": [
    "### Getting Tor descriptors\n",
    "* https://stem.torproject.org/api/descriptor/remote.html"
   ]
  },
  {
   "cell_type": "code",
   "execution_count": 9,
   "metadata": {},
   "outputs": [],
   "source": [
    "guard_nodes = {}\n",
    "middle_nodes = {}\n",
    "exit_nodes = {}"
   ]
  },
  {
   "cell_type": "code",
   "execution_count": 10,
   "metadata": {},
   "outputs": [],
   "source": [
    "# Retries this block 5 times, interleaved by 10000 miliseconds\n",
    "@retry(wait_exponential_multiplier=1000, wait_exponential_max=10000, stop_max_attempt_number=10)\n",
    "def create_new_circuit_and_close(controller, client_id):\n",
    "    print(f\"RETRY create_new_circuit({client_id})\")\n",
    "\n",
    "    circuit_id = controller.new_circuit(await_build=True, timeout=60)\n",
    "    circuit = controller.get_circuits()[-1]\n",
    "\n",
    "    guard_ip, middle_ip, exit_ip = get_circuit_data(controller, circuit)\n",
    "    \n",
    "    try:\n",
    "        ip, city, region, country, country_code, isp, a_sys, org = get_geolocation(guard_ip)\n",
    "        if ip in guard_nodes:\n",
    "            guard_nodes[ip]['count'] += 1\n",
    "        else:\n",
    "            guard_nodes[ip] = {\n",
    "                'city': city,\n",
    "                'region': region,\n",
    "                'country': country, \n",
    "                'country_code': country_code,\n",
    "                'isp': isp, \n",
    "                'as': a_sys, \n",
    "                'org': org,\n",
    "                'count': 1\n",
    "            }\n",
    "        \n",
    "        ip, city, region, country, country_code, isp, a_sys, org = get_geolocation(middle_ip)  \n",
    "        if ip in middle_nodes:\n",
    "            middle_nodes[ip]['count'] += 1\n",
    "        else:\n",
    "            middle_nodes[ip] = {\n",
    "                'city': city,\n",
    "                'region': region,\n",
    "                'country': country, \n",
    "                'country_code': country_code,\n",
    "                'isp': isp, \n",
    "                'as': a_sys, \n",
    "                'org': org,\n",
    "                'count': 1\n",
    "            }\n",
    "\n",
    "        ip, city, region, country, country_code, isp, a_sys, org = get_geolocation(exit_ip)\n",
    "        if ip in exit_nodes:\n",
    "            exit_nodes[ip]['count'] += 1\n",
    "        else:\n",
    "            exit_nodes[ip] = {\n",
    "                'city': city,\n",
    "                'region': region,\n",
    "                'country': country, \n",
    "                'country_code': country_code,\n",
    "                'isp': isp, \n",
    "                'as': a_sys, \n",
    "                'org': org,\n",
    "                'count': 1\n",
    "            }\n",
    "    \n",
    "    except RelayGeolocationException as e:\n",
    "        traceback.print_exc()\n",
    "        sys.exit(0)\n",
    "\n",
    "    controller.close_circuit(circuit_id)"
   ]
  },
  {
   "cell_type": "code",
   "execution_count": 11,
   "metadata": {},
   "outputs": [],
   "source": [
    "def change_guard_node(controller):\n",
    "    # We need to have the line \"UseEntryGuards 0\" in the torrc for this to work\n",
    "    controller.signal(\"NEWNYM\")\n",
    "    print(\"Requested a new identity (including new guard nodes)\")"
   ]
  },
  {
   "cell_type": "code",
   "execution_count": 12,
   "metadata": {},
   "outputs": [],
   "source": [
    "\n",
    "def generate_client_circuits(client_id):\n",
    "    # Has to be Control Port\n",
    "    with Controller.from_port(address=\"127.0.0.1\", port=CONTROL_PORT) as controller:\n",
    "        # try:\n",
    "        controller.authenticate(password=\"\")\n",
    "        print(\"Successfully authenticated with Tor control port\")\n",
    "\n",
    "        print(\"Created {} preemptive circuits\".format(len(controller.get_circuits())))\n",
    "        print(\"Tor will chose a random one from these to start the next session\")\n",
    "\n",
    "        print(\"Forcing the creation of new circuits\")\n",
    "        #for client_id in range(num_clients):\n",
    "        print(\"=== Client {}\".format(client_id))\n",
    "        try:\n",
    "            create_new_circuit_and_close(controller, client_id)\n",
    "        except Exception as e:\n",
    "            print(f\"create_new_circuit_and_close() failed for client {client_id} after 10 attempts. Continuing ...\")\n",
    "            time.sleep(10)\n",
    "        change_guard_node(controller)\n",
    "    "
   ]
  },
  {
   "cell_type": "markdown",
   "metadata": {},
   "source": [
    "### Check if Tor is already running\n",
    "First, restart the kernel. Then, run the following commands:\n",
    "```\n",
    "sudo lsof -i -P | grep LISTEN | grep 9050\n",
    "sudo kill -9 95441\n",
    "```"
   ]
  },
  {
   "cell_type": "code",
   "execution_count": 13,
   "metadata": {},
   "outputs": [
    {
     "name": "stdout",
     "output_type": "stream",
     "text": [
      "Aug 17 18:36:25.655 [notice] Tor 0.4.7.14 running on Darwin with Libevent 2.1.12-stable, OpenSSL 3.1.2, Zlib 1.2.11, Liblzma N/A, Libzstd N/A and Unknown N/A as libc.\n",
      "Aug 17 18:36:25.655 [notice] Tor can't help you if you use it wrong! Learn how to be safe at https://support.torproject.org/faq/staying-anonymous/\n",
      "Aug 17 18:36:25.656 [notice] Read configuration file \"/Users/danielalopes/coverage_analysis_ndss_2024/data/torrc\".\n",
      "Aug 17 18:36:25.658 [warn] CookieAuthFileGroupReadable is set, but will have no effect: you must specify an explicit CookieAuthFile to have it group-readable.\n",
      "Aug 17 18:36:25.659 [notice] Opening Socks listener on 127.0.0.1:9050\n",
      "Aug 17 18:36:25.659 [notice] Opened Socks listener connection (ready) on 127.0.0.1:9050\n",
      "Aug 17 18:36:25.659 [notice] Opening Control listener on 127.0.0.1:9051\n",
      "Aug 17 18:36:25.659 [notice] Opened Control listener connection (ready) on 127.0.0.1:9051\n",
      "Aug 17 18:36:25.000 [notice] Parsing GEOIP IPv4 file /opt/homebrew/Cellar/tor/0.4.7.14/share/tor/geoip.\n",
      "Aug 17 18:36:25.000 [notice] Parsing GEOIP IPv6 file /opt/homebrew/Cellar/tor/0.4.7.14/share/tor/geoip6.\n",
      "Aug 17 18:36:25.000 [notice] Bootstrapped 0% (starting): Starting\n",
      "Aug 17 18:36:26.000 [notice] Starting with guard context \"default\"\n",
      "Aug 17 18:36:27.000 [notice] Bootstrapped 5% (conn): Connecting to a relay\n",
      "Aug 17 18:36:27.000 [notice] Bootstrapped 10% (conn_done): Connected to a relay\n",
      "Aug 17 18:36:27.000 [notice] Bootstrapped 14% (handshake): Handshaking with a relay\n",
      "Aug 17 18:36:27.000 [notice] Bootstrapped 15% (handshake_done): Handshake with a relay done\n",
      "Aug 17 18:36:27.000 [notice] Bootstrapped 75% (enough_dirinfo): Loaded enough directory info to build circuits\n",
      "Aug 17 18:36:27.000 [notice] Bootstrapped 90% (ap_handshake_done): Handshake finished with a relay to build circuits\n",
      "Aug 17 18:36:27.000 [notice] Bootstrapped 95% (circuit_create): Establishing a Tor circuit\n",
      "Aug 17 18:36:28.000 [notice] Bootstrapped 100% (done): Done\n",
      "Wait for Tor process to start ...\n"
     ]
    },
    {
     "name": "stderr",
     "output_type": "stream",
     "text": [
      "  0%|          | 0/10000 [00:00<?, ?it/s]"
     ]
    },
    {
     "name": "stdout",
     "output_type": "stream",
     "text": [
      "Aug 17 18:36:35.000 [notice] New control connection opened from 127.0.0.1.\n",
      "Successfully authenticated with Tor control port\n",
      "Created 6 preemptive circuits\n",
      "Tor will chose a random one from these to start the next session\n",
      "Forcing the creation of new circuits\n",
      "=== Client 0\n",
      "RETRY create_new_circuit(0)\n",
      "RETRY create_new_circuit(0)\n",
      "Circuit characteristics: CIRC 8 BUILT $DB1629B59707F744A0C7933E56B6802786FFC317~deimos,$2D938F19EAF660D902C656B5E6002F39B45C4BE4~VoxBox,$B09AB667E97470AAAA590077383A24437226A127~NTH11R3 BUILD_FLAGS=NEED_CAPACITY PURPOSE=GENERAL TIME_CREATED=2023-08-17T17:36:39.866708\n",
      "GUARD ('DB1629B59707F744A0C7933E56B6802786FFC317', 'deimos')\n",
      "MIDDLE ('2D938F19EAF660D902C656B5E6002F39B45C4BE4', 'VoxBox')\n",
      "LAST ('B09AB667E97470AAAA590077383A24437226A127', 'NTH11R3')\n",
      "Guard relay flags ['Fast', 'Guard', 'HSDir', 'Running', 'Stable', 'V2Dir', 'Valid']\n",
      "Middle relay flags ['Fast', 'HSDir', 'Running', 'Stable', 'V2Dir', 'Valid']\n",
      "Exit relay flags ['Exit', 'Fast', 'Running', 'Stable', 'Valid']\n",
      "IP Address: 94.23.76.52\n",
      "Location: Lisbon, 11, Portugal, PT\n",
      "ISP: OVH ISP, AS: AS16276 OVH SAS, Org: OVH Hosting LDA\n",
      "==============================\n",
      "IP Address: 213.135.244.242\n",
      "Location: Fischbach, ME, Luxembourg, LU\n",
      "ISP: POST Luxembourg, AS: AS6661 POST Luxembourg, Org: EPT\n",
      "==============================\n",
      "IP Address: 192.42.116.208\n",
      "Location: Amsterdam, NH, Netherlands, NL\n",
      "ISP: Surf B.V., AS: AS1101 SURF B.V., Org: Nothing to hide\n",
      "==============================\n",
      "Requested a new identity (including new guard nodes)\n"
     ]
    },
    {
     "name": "stderr",
     "output_type": "stream",
     "text": [
      "  0%|          | 1/10000 [00:14<41:38:28, 14.99s/it]"
     ]
    },
    {
     "name": "stdout",
     "output_type": "stream",
     "text": [
      "Exited Tor process cleanly at the end\n",
      "Aug 17 18:36:50.000 [notice] New control connection opened from 127.0.0.1.\n",
      "Successfully authenticated with Tor control port\n",
      "Created 6 preemptive circuits\n",
      "Tor will chose a random one from these to start the next session\n",
      "Forcing the creation of new circuits\n",
      "=== Client 1\n",
      "RETRY create_new_circuit(1)\n",
      "Circuit characteristics: CIRC 9 BUILT $1EDE608C5E190C8682A2F827664E758416104670~W4LS3R,$18474F89EC3E8ABE40148B424C8DD5399242CEC1~squid,$13F7EAE731CA4600951986921E08ECAB9B1D2AF6~CanopoIT BUILD_FLAGS=NEED_CAPACITY PURPOSE=GENERAL TIME_CREATED=2023-08-17T17:36:50.697438\n",
      "GUARD ('1EDE608C5E190C8682A2F827664E758416104670', 'W4LS3R')\n",
      "MIDDLE ('18474F89EC3E8ABE40148B424C8DD5399242CEC1', 'squid')\n",
      "LAST ('13F7EAE731CA4600951986921E08ECAB9B1D2AF6', 'CanopoIT')\n",
      "Guard relay flags ['Fast', 'Guard', 'HSDir', 'Running', 'Stable', 'V2Dir', 'Valid']\n",
      "Middle relay flags ['Fast', 'Guard', 'HSDir', 'Running', 'Stable', 'V2Dir', 'Valid']\n",
      "Exit relay flags ['Fast', 'Guard', 'HSDir', 'Running', 'Stable', 'V2Dir', 'Valid']\n",
      "IP Address: 185.156.175.60\n",
      "Location: Zurich, ZH, Switzerland, CH\n",
      "ISP: M247 Europe SRL, AS: AS9009 M247 Europe SRL, Org: AirVPN.org exit server (Sirrah)\n",
      "==============================\n",
      "IP Address: 51.81.93.162\n",
      "Location: Reston, VA, United States, US\n",
      "ISP: OVH SAS, AS: AS16276 OVH SAS, Org: OVH US LLC\n",
      "==============================\n",
      "IP Address: 37.9.231.195\n",
      "Location: Milan, 25, Italy, IT\n",
      "ISP: Seeweb s.r.l, AS: AS12637 SEEWEB s.r.l., Org: Seeweb s.r.l.\n",
      "==============================\n",
      "Requested a new identity (including new guard nodes)\n"
     ]
    },
    {
     "name": "stderr",
     "output_type": "stream",
     "text": [
      "  0%|          | 1/10000 [00:21<59:15:06, 21.33s/it]\n"
     ]
    },
    {
     "name": "stdout",
     "output_type": "stream",
     "text": [
      "Aug 17 18:36:57.000 [notice] Catching signal TERM, exiting cleanly.\n",
      "Wait for Tor process to stop ...\n",
      "Exited Tor process cleanly at the end\n"
     ]
    },
    {
     "ename": "KeyboardInterrupt",
     "evalue": "",
     "output_type": "error",
     "traceback": [
      "\u001b[0;31m---------------------------------------------------------------------------\u001b[0m",
      "\u001b[0;31mKeyboardInterrupt\u001b[0m                         Traceback (most recent call last)",
      "Cell \u001b[0;32mIn[13], line 11\u001b[0m\n\u001b[1;32m      9\u001b[0m generate_client_circuits(client_id)\n\u001b[1;32m     10\u001b[0m \u001b[39m#stop_tor(tor_process)\u001b[39;00m\n\u001b[0;32m---> 11\u001b[0m time\u001b[39m.\u001b[39;49msleep(\u001b[39m10\u001b[39;49m)\n\u001b[1;32m     12\u001b[0m \u001b[39mprint\u001b[39m(\u001b[39m\"\u001b[39m\u001b[39mExited Tor process cleanly at the end\u001b[39m\u001b[39m\"\u001b[39m)\n\u001b[1;32m     14\u001b[0m \u001b[39m# So that it updates at every iteration\u001b[39;00m\n",
      "\u001b[0;31mKeyboardInterrupt\u001b[0m: "
     ]
    }
   ],
   "source": [
    "# Start Tor process in the background\n",
    "tor_process = start_tor()\n",
    "time.sleep(10)\n",
    "print(\"Wait for Tor process to start ...\")\n",
    "\n",
    "try:\n",
    "    num_clients = 10000\n",
    "    for client_id in tqdm(range(num_clients)):\n",
    "        generate_client_circuits(client_id)\n",
    "        #stop_tor(tor_process)\n",
    "        time.sleep(10)\n",
    "        print(\"Exited Tor process cleanly at the end\")\n",
    "\n",
    "        # So that it updates at every iteration\n",
    "        joblib.dump(guard_nodes, GUARD_NODES_FILE)\n",
    "        joblib.dump(middle_nodes, MIDDLE_NODES_FILE)\n",
    "        joblib.dump(exit_nodes, EXIT_NODES_FILE)\n",
    "\n",
    "except Exception as e:\n",
    "    traceback.print_exc()\n",
    "    #if tor_process:\n",
    "        #stop_tor(tor_process)\n",
    "        #time.sleep(10)\n",
    "        #print(\"Wait for Tor process to stop ...\")\n",
    "        #print(\"Exited Tor process cleanly at the end\")\n",
    "\n",
    "finally:\n",
    "    stop_tor(tor_process)\n",
    "    print(\"Wait for Tor process to stop ...\")\n",
    "    time.sleep(10)\n",
    "    print(\"Exited Tor process cleanly at the end\")\n",
    "\n",
    "\n",
    "    "
   ]
  },
  {
   "cell_type": "code",
   "execution_count": null,
   "metadata": {},
   "outputs": [],
   "source": [
    "guard_nodes = joblib.load(GUARD_NODES_FILE)\n",
    "print(\"\\nguard_nodes\", guard_nodes)\n",
    "print(\"len(guard_nodes)\", len(guard_nodes))"
   ]
  }
 ],
 "metadata": {
  "kernelspec": {
   "display_name": "ml_experiments",
   "language": "python",
   "name": "python3"
  },
  "language_info": {
   "codemirror_mode": {
    "name": "ipython",
    "version": 3
   },
   "file_extension": ".py",
   "mimetype": "text/x-python",
   "name": "python",
   "nbconvert_exporter": "python",
   "pygments_lexer": "ipython3",
   "version": "3.9.0"
  },
  "orig_nbformat": 4
 },
 "nbformat": 4,
 "nbformat_minor": 2
}
